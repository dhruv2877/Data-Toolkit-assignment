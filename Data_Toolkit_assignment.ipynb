{
  "nbformat": 4,
  "nbformat_minor": 0,
  "metadata": {
    "colab": {
      "provenance": []
    },
    "kernelspec": {
      "name": "python3",
      "display_name": "Python 3"
    },
    "language_info": {
      "name": "python"
    }
  },
  "cells": [
    {
      "cell_type": "markdown",
      "source": [
        "# ***Data Toolkit Assignment***\n",
        "-  Theoretical questions"
      ],
      "metadata": {
        "id": "2iGx0QiJmzM2"
      }
    },
    {
      "cell_type": "markdown",
      "source": [
        "1. What is NumPy, and why is it widely used in Python ?\n",
        "\n",
        " -  Numpy (numerical python) is a powerful and fundamentallibrary in python used for scientific computing.\n",
        " It provides support for large, multi-dimensional arrays and matrices, along with a collection of mathematical functions to operate on these arrays efficiently.\n",
        "\n",
        "*  Reasons why numpy is widely used in python are:\n",
        "\n",
        "\n",
        "1.   Efficiency and performance: Numpy arrays are multidimensional collection of elements which are ideal for handling large amount of homogenous data, making it more efficient and high performance unlike python lists.\n",
        "2.   High level syntax: It provides high level syntax which helps in performing a wide range of numerical operations.\n",
        "3. Mathematical Functions: Supports advanced mathematical operations, such as linear algebra, Fourier transforms, and random number generation.\n",
        "4. Integrationwith other libraries: Many libraries like Pandas, Matplotlib, and Scikit-Learn depend on NumPy for efficient data handling.\n",
        "\n",
        "\n",
        "Example:-\n",
        "           \n",
        "\n",
        "\n",
        "```\n",
        "import numpy as np\n",
        "\n",
        "# Creating a NumPy array\n",
        "arr = np.array([1, 2, 3, 4, 5])\n",
        "print(arr)\n",
        "#output [1 2 3 4 5]\n",
        "\n",
        "```\n",
        "\n",
        "\n",
        "\n"
      ],
      "metadata": {
        "id": "tQ7FM9YLnK42"
      }
    },
    {
      "cell_type": "markdown",
      "source": [
        "2. How does broadcasting work in NumPy?\n",
        "\n",
        " -  Broadcasting is a powerful technique in numpy which allows performing element wise operations on arrays of different shapes, without explicitly reshaping or duplicating data. It automatically expands smaller arrays to match the shape of larger ones, enabling efficient computation.\n",
        "\n",
        " It is important because it avoids explicit loops and make operations faster, and by handling codes on arrays of different shapes.\n",
        "\n",
        " There are some rules of broadcasting:\n",
        "\n",
        " i.)  With same dimensions numpy performs the element wise  operations normally.\n",
        "\n",
        " ii.) If dimension of array is one,it gets stretched to match other arrays\n",
        "\n",
        " iii.) Array with fewer dimensions stretches and match the larger array.\n",
        "\n",
        "\n",
        "\n",
        "Example:-\n",
        "          \n",
        "\n",
        "\n",
        "```\n",
        "import numpy as np\n",
        "\n",
        "arr = np.array([1, 2, 3, 4])\n",
        "result = arr + 10  # Adds 10 to each element\n",
        "print(result)\n",
        "\n",
        "#output [11 12 13 14]\n",
        "```\n",
        "\n"
      ],
      "metadata": {
        "id": "kXK-rUyKrzdj"
      }
    },
    {
      "cell_type": "markdown",
      "source": [
        "3. What is a Pandas DataFrame ?\n",
        "  -  Pandas is a fast, powerful, flexible and easy to use open source data analysis and manipulation tool built on top of the Python programming language.\n",
        "  A Pandas DataFrame is a 2D labeled data structure, similar to a table in SQL or an Excel spreadsheet. It consists of rows and columns, where:\n",
        "* Rows are identified using an index (default: 0,1,2… but can be customized).\n",
        "* Columns are labeled and can store different data types.\n",
        "\n",
        "DataFrames are a fundamental data structure in Pandas and are widely used for data analysis, manipulation, and cleaning.\n",
        "\n",
        "Example:-\n",
        "          \n",
        "\n",
        "\n",
        "```\n",
        "import pandas as pan\n",
        "\n",
        "data = {\n",
        "    'Name': ['Dhruv', 'Manvi', 'Idhika'],\n",
        "    'Age': [17, 19, 18],\n",
        "    'City': ['Greater Noida', 'Patna', 'Jaipur']\n",
        "}\n",
        "\n",
        "df = pan.DataFrame(data)\n",
        "print(df)\n",
        "\n",
        "# Output\n",
        "     Name  Age      City\n",
        "0   Dhruv   17  Greater Noida\n",
        "1   Manvi   19    Patna\n",
        "2  Idhika   18   Jaipur\n",
        "\n",
        "  ```\n",
        "\n",
        "\n",
        "     "
      ],
      "metadata": {
        "id": "NtyiLJ9mvKCJ"
      }
    },
    {
      "cell_type": "markdown",
      "source": [
        "4. Explain the use of the groupby() method in Pandas ?\n",
        "\n",
        " - A groupby() method is used in python to split datasets into groups based on column values and then apply aggregate operation (like: sum, mean, count) to those groups and then combine the results into a new dataframe.\n",
        "\n",
        "\n",
        "Syntax:-\n",
        "\n",
        "         \n",
        "\n",
        "```\n",
        "df.groupby('column_name')['other_column'].aggregation_function()\n",
        "```\n",
        "\n",
        "Example:-\n",
        "\n",
        "\n",
        "```\n",
        "import pandas as pd\n",
        "\n",
        "data = {\n",
        "    'Employee': ['Idhika', 'Manvi', 'Dhruv', 'Piyush', 'Sivam', 'Vinay', 'Suraj'],\n",
        "    'Department': ['HR', 'IT', 'Finance', 'IT', 'HR', 'Finance', 'IT'],\n",
        "    'Salary': [45000, 60000, 55000, 62000, 48000, 57000, 68000]\n",
        "}\n",
        "\n",
        "df = pd.DataFrame(data)\n",
        "\n",
        "# Group by 'Department' and calculate average Salary\n",
        "grouped = df.groupby('Department')['Salary'].mean()\n",
        "print(grouped)\n",
        "\n",
        "#output:\n",
        "Department\n",
        "Finance    56000.0\n",
        "HR         46500.0\n",
        "IT         65000.0\n",
        "Name: Salary, dtype: float64\n",
        "\n",
        "```\n",
        "\n",
        "\n"
      ],
      "metadata": {
        "id": "cwHwnogmyvWv"
      }
    },
    {
      "cell_type": "markdown",
      "source": [
        "5. A Why is Seaborn preferred for statistical visualizations?\n",
        "  -  Seaborn is a data visualisation library built on top of matplotlib which uses high level function to create aestheic, informative and statistical visualisation of  graphs.\n",
        "\n",
        "\n",
        "  Some reasons why Seaborn is preferred for statistical visualistion:\n",
        "  \n",
        "  i.) Unlike Matplotlib, which requires manual styling, Seaborn automatically applies better aesthetics, color palettes, and themes to make visualizations more readable and professional.\n",
        "\n",
        "  ii.) Seaborn requires less code to generate complex plots\n",
        "\n",
        "  iii.) Many Seaborn plots automatically calculate statistics and display patterns.\n",
        "\n",
        "  iv.) Seaborn can plot millions of data points without performance issues.\n",
        "\n",
        "  \n",
        "\n"
      ],
      "metadata": {
        "id": "e3e3MRpI2gJA"
      }
    },
    {
      "cell_type": "markdown",
      "source": [
        "6. What are the differences between NumPy arrays and Python lists?\n",
        "\n",
        " -  Both NumPy arrays (ndarray) and Python lists are used to store and manipulate data, but NumPy arrays can perform numerical computations and handle and operate on large datasets.\n",
        "\n",
        " Differences between Numpy arrays and Python lists are as follows:\n",
        "\n",
        "* Numpy arrays runs in complied C codes meanwhile lists run on python interpreted codes which makes arrays faster than Lists.\n",
        "* NumPy allows element-wise calculations without explicit loops,but lists use loops to perform operations.\n",
        "* NumPy stores data in a single block, making access faster than lists, which store elements randomly in memory.\n",
        "* Numpy arrays stores the homogeneous type of data but lists stores heterogeneous type of data.\n",
        "* Numpy arrays supports multidimensional arrays but lists supports 1D or nested lists only.\n",
        "* Numpy uses less memory as its fixed memory and lists use more memory as it's dynamic memory.\n",
        "\n"
      ],
      "metadata": {
        "id": "-enLpqz9CfAa"
      }
    },
    {
      "cell_type": "markdown",
      "source": [
        "7. What is a heatmap, and when should it be used?\n",
        "\n",
        " -  A heatmap is a type of data visualization that represents values using color intensity. It helps in identifying patterns, correlations, and outliers in large datasets by mapping numerical values to different shades of a color scale. It is used in statistical analysis to see how variables are related, identifying high and low values across a dataset, and instead of reading large numerical tables, heatmaps provide a color-coded summary.\n",
        "\n",
        "Seaborn's heatmap() function is commonly used to create heatmaps in Python."
      ],
      "metadata": {
        "id": "9W9WmV7WFRnr"
      }
    },
    {
      "cell_type": "markdown",
      "source": [
        "8. A What does the term “vectorized operation” mean in NumPy?\n",
        "\n",
        " -  The term vectorised operations in Numpy means applying operations on entire array at once, without using explicit loops and iterating through each element one by one.  NumPy performs operations on the whole array at once, making computations faster and more efficient.\n",
        "\n",
        "This is possible because NumPy is implemented in C and Fortran, allowing it to handle operations at a low level with optimized memory usage.\n",
        "\n",
        "Vectorisaion is important because it helps in faster execution, makes the code simpler by removing codes, and its memory efficient too.\n",
        "\n",
        "Example:-\n",
        "\n",
        "\n",
        "```\n",
        "import numpy as np\n",
        "\n",
        "# Python List (Loop Required)\n",
        "salaries = [40000, 50000, 60000, 70000]\n",
        "new_salaries = [x * 1.10 for x in salaries]  # 10% raise\n",
        "print(new_salaries)\n",
        "\n",
        "# NumPy Array (Vectorized)\n",
        "salaries_np = np.array([40000, 50000, 60000, 70000])\n",
        "new_salaries_np = salaries_np * 1.10  # Direct operation\n",
        "print(new_salaries_np)\n",
        "#Output\n",
        "[44000.0, 55000.0, 66000.0, 77000.0]  # Python List (Loop)\n",
        "[44000. 55000. 66000. 77000.]        # NumPy (Vectorized)\n",
        "\n",
        "```\n",
        "\n"
      ],
      "metadata": {
        "id": "NgY9nA0nHQgx"
      }
    },
    {
      "cell_type": "markdown",
      "source": [
        "9.  How does Matplotlib differ from Plotly?\n",
        " -  Both Matplotlib and Plotly are Python libraries used for data visualization, but they have key differences in terms of interactivity, complexity, and ease of use.\n",
        "\n",
        " Here are some key differences between Matplotlib and Plotly.\n",
        "*  Interactivity: Matplotlib creates static plots, while Plotly generates interactive charts with zoom and hover effects.\n",
        "* Customization: Matplotlib requires manual styling for colors and layouts, whereas Plotly provides visually appealing charts by default.\n",
        "* Ease of Use: Matplotlib is simpler for basic plots, while Plotly makes complex visualizations (like 3D and dashboards) easier.\n",
        "* 3D Visualizations:  Matplotlib has limited 3D support, but Plotly offers built-in 3D plotting and geographic mapping.\n",
        "* Best Use Cases → Matplotlib is ideal for scientific reports and quick static plots, whereas Plotly is best for interactive dashboards and web-based visualizations.\n",
        "\n"
      ],
      "metadata": {
        "id": "b3laIAwjJLsw"
      }
    },
    {
      "cell_type": "markdown",
      "source": [
        "10. What is the significance of hierarchical indexing in Pandas?\n",
        "\n",
        " -  Hierarchical indexing (also called MultiIndexing) in Pandas allows multiple levels of indexing in a DataFrame. Instead of using a single column as the index, multiple columns can be used to create a hierarchical structure.\n",
        "\n",
        " Hierarchial indexing in pandas is important because, it enables organizing data with multiple levels, such as city and department in an employee dataset, makes it easier to group, filter, and perform operations at different levels and quickly accesses specific categories without scanning the entire DataFrame."
      ],
      "metadata": {
        "id": "DvN_xrpyK6zQ"
      }
    },
    {
      "cell_type": "markdown",
      "source": [
        "11. What is the role of Seaborn's pairplot() function?\n",
        "\n",
        " -  Seaborn's pairplot() is a function that creates scatter plots for all possible numerical column pairs in a dataset. It is widely used for Exploratory Data Analysis (EDA) to identify relationships, trends, and distributions in multi-variable datasets."
      ],
      "metadata": {
        "id": "b-IE2pLGMiUn"
      }
    },
    {
      "cell_type": "markdown",
      "source": [
        "12. What is the purpose of the describe() function in Pandas?\n",
        " -  The describe() function in Pandas is a built in method in python which is used to create a statistical summary of a large dataset without calculating mannualy.  It provides key insights into the distribution, central tendency, and variability of numerical columns in a DataFrame.\n",
        "\n",
        " By default, describe() works on numerical data, displaying statistics like count, mean, standard deviation, minimum and maximum values, and quartiles (25%, 50%, 75%). However, it can also be used for categorical data to count unique values and display the most frequent categories.\n",
        "\n",
        " It helps in data cleaning too by identifying missing values, incorrect data types, or extreme values.\n",
        "\n",
        " Example:-\n",
        "\n",
        "\n",
        "```\n",
        "import pandas as pd\n",
        "data = {\n",
        "    'Name': ['Arjun', 'Meera', 'Kabir', 'Tanya', 'Ishaan'],\n",
        "    'Age': [22, 25, 27, 23, 24],\n",
        "    'Salary': [50000, 62000, 75000, 68000, 71000]\n",
        "}\n",
        "\n",
        "df = pd.DataFrame(data)\n",
        "print(df.describe())\n",
        "\n",
        "#output\n",
        "            Age       Salary\n",
        "count   5.00000      5.00000\n",
        "mean   24.20000  65200.00000\n",
        "std     2.16795  9868.12293\n",
        "min    22.00000  50000.00000\n",
        "25%    23.00000  62000.00000\n",
        "50%    24.00000  68000.00000\n",
        "75%    25.00000  71000.00000\n",
        "max    27.00000  75000.00000\n",
        "  \n",
        "```\n",
        "\n"
      ],
      "metadata": {
        "id": "gn_L1PFBRBXw"
      }
    },
    {
      "cell_type": "markdown",
      "source": [
        "13. Why is handling missing data important in Pandas?\n",
        "\n",
        " -  Missing data occurs when some values in a dataset are empty or null (NaN). If not handled properly, missing values can cause errors, inaccurate results, and biased analysis in data science and machine learning tasks. Pandas provides several methods to detect, fill, or remove missing data efficiently.\n",
        "\n",
        " Reasons why handling missing data is important in pandas is:\n",
        "* Prevents Errors in Analysis: Missing values can cause incorrect statistical summaries and visualizations.\n",
        "* Improves Model Performance: Machine learning models can fail or give poor predictions if missing values are ignored.\n",
        "* Avoids mislead in Data: If missing data is not handled, results can be skewed and misleading.\n",
        "* Data Completeness: Filling or removing missing values helps maintain dataset consistency.\n",
        "* Maintains Accuracy in Calculations: Functions like mean() or sum() ignore NaNs, affecting computations."
      ],
      "metadata": {
        "id": "q-k6ccC6TRyy"
      }
    },
    {
      "cell_type": "markdown",
      "source": [
        "14. A What are the benefits of using Plotly for data visualization?\n",
        "\n",
        " -  Plotly is a Python library for creating interactive visualizations, widely used for dashboards, web applications, and exploratory data analysis. Unlike Matplotlib, which produces static plots by default, Plotly generates dynamic charts with zoom, hover, and clickable elements.\n",
        "\n",
        " Benifits of using plotly for data visualisation are:\n",
        "*  Interactive Visualizations: Supports zooming, panning, and hover tooltips, making data exploration easier.\n",
        "*  Beautiful and Pre-Styled Charts comes with built-in color themes and smooth visuals, reducing the need for manual styling.\n",
        "*  Wide Range of Charts supports advanced visualizations like 3D plots, heatmaps, geographic maps, and financial charts.\n",
        "* Works in Web Applications: Compatible with frameworks like Dash and Flask, allowing interactive web-based data dashboards.\n",
        "* Easy Integration with Pandas: Works directly with Pandas DataFrames, making data visualization seamless.\n",
        "* Supports Big Data: Can handle large datasets efficiently with optimized rendering."
      ],
      "metadata": {
        "id": "NieqpVMGaYB7"
      }
    },
    {
      "cell_type": "markdown",
      "source": [
        "15. How does NumPy handle multidimensional arrays?\n",
        " -  NumPy provides a powerful data structure called the ndarray (N-dimensional array), which supports multidimensional data storage and manipulation. Unlike Python lists, which require nested lists for multi-dimensional data, NumPy handles them efficiently using a single contiguous memory block, making operations faster and more memory-efficient.\n",
        "\n",
        "A multidimensional array in NumPy can have two, three, or more dimensions, allowing it to represent matrices, tensors, and higher-dimensional datasets used in fields like machine learning, image processing, and scientific computing.\n",
        "\n",
        "Numpy handles mutlidimensional arrays by:\n",
        "\n",
        "* creating 2D (matrices), 3D (tensor-like), and even higher-dimensional arrays effortlessly.\n",
        "*  Storing data in a contiguous memory block improving performance.\n",
        "* Doing vectorized computations, matrix operations, and broadcasting without explicit loops.\n",
        "* providing functions like reshape() and transpose() to modify array dimensions easily.\n",
        "\n"
      ],
      "metadata": {
        "id": "vrOSrN6zb8KA"
      }
    },
    {
      "cell_type": "markdown",
      "source": [
        "16. What is the role of Bokeh in data visualization?\n",
        "\n",
        " -  Bokeh is a Python library for interactive data visualization, designed for creating web-based, scalable, and high-performance charts. Unlike static libraries like Matplotlib, Bokeh provides dynamic, zoomable, and customizable visualizations that can be embedded in web applications and dashboards.\n",
        "\n",
        "Bokeh is widely used in data analysis, real-time monitoring, and business intelligence applications, where interactive visualizations help users explore data more effectively."
      ],
      "metadata": {
        "id": "GOMJb26CdprZ"
      }
    },
    {
      "cell_type": "markdown",
      "source": [
        "17. A Explain the difference between apply() and map() in Pandas.\n",
        " -  1.) The apply() function: In Pandas it is a flexible method used to apply a custom function to either rows or columns of a DataFrame or to all elements of a Series. It allows performing complex transformations and operations that may involve multiple columns or require row-wise computation.\n",
        "\n",
        " Syntax of apply():-\n",
        "                    \n",
        "\n",
        "```\n",
        "df.apply(func, axis=0)  # Apply function to each column (default)\n",
        "df.apply(func, axis=1)  # Apply function to each row\n",
        "```\n",
        "\n",
        "2.) The map() function in Pandas is used exclusively on Series (single columns) to perform element-wise transformations using a function, dictionary, or another Series. Unlike apply(), map() cannot be used on a DataFrame and is limited to working with one-dimensional data only.\n",
        "\n",
        "\n",
        "Syntax of map():-\n",
        "\n",
        "\n",
        "```\n",
        "df['column'].map(func)  # Apply function to each element of a column\n",
        "df['column'].map(mapping_dict)  # Replace values using a dictionary\n",
        "df['column'].map(another_series)  # Map values based on another Series\n",
        "```\n",
        "\n",
        "Some key differences between map() and apply() are:\n",
        "* apply() works on both Series and DataFrames, while map() only works on Series.\n",
        "* apply() can be used row-wise (axis=1) or column-wise (axis=0), but map() applies a function only element-wise.\n",
        "* apply() is more flexible and can handle complex operations across multiple columns, whereas map() is simpler and faster for element-wise operations.\n",
        "*\n",
        "\n",
        "\n"
      ],
      "metadata": {
        "id": "meADxwV_eBuh"
      }
    },
    {
      "cell_type": "markdown",
      "source": [
        "18. What are some advanced features of NumPy?\n",
        " -  NumPy is a powerful numerical computing library that provides high-performance array operations, mathematical functions, and tools for scientific computing. While basic features include array creation, indexing, and broadcasting, NumPy also has some advanced functionalities that improve performance and enable complex computations efficiently which are:-\n",
        "\n",
        "* Vectorized Operations: NumPy eliminates the need for explicit loops by performing element-wise operations on arrays.\n",
        "* Broadcasting: Broadcasting allows operations on arrays of different shapes without reshaping them manually.\n",
        "* Using memory-mapped files, NumPy can read large datasets efficiently without loading them entirely into RAM.\n",
        "*  Linear Algebra Operations: NumPy provides a set of linear algebra functions for matrix operations, including dot products, eigenvalues, and matrix decomposition.\n"
      ],
      "metadata": {
        "id": "wft-UqRohOAC"
      }
    },
    {
      "cell_type": "markdown",
      "source": [
        "19.  How does Pandas simplify time series analysis?\n",
        "\n",
        " -  Pandas provides powerful tools for handling, analyzing, and manipulating time-series data efficiently. Time series data consists of timestamps, dates, or time intervals and is widely used in financial analysis, stock market predictions, sensor data, weather forecasting, and trend analysis.\n",
        "\n",
        "Pandas simplifies time series analysis through its built-in date handling, resampling, shifting, rolling calculations, and time zone support."
      ],
      "metadata": {
        "id": "M_DemWpcis9L"
      }
    },
    {
      "cell_type": "markdown",
      "source": [
        "20. What is the role of a pivot table in Pandas?\n",
        "\n",
        " -  A pivot table in Pandas is a powerful data summarization tool that helps in aggregating, reshaping, and analyzing data efficiently. It allows you to group values based on categories and apply statistical functions (like sum, mean, count, etc.) to transform large datasets into a structured format.\n",
        "\n",
        "Pivot tables are particularly useful in business intelligence, financial analysis, and data reporting, as they allow quick insights from complex datasets.\n",
        "\n"
      ],
      "metadata": {
        "id": "cIJVu4i5kjmx"
      }
    },
    {
      "cell_type": "markdown",
      "source": [
        "21.  Why is NumPy's array slicing faster than Python's list slicing ?\n",
        " -  Slicing is a technique used in programming to extract a subset of data from sequences like lists, tuples, strings, and arrays. It allows us to access specific elements efficiently using a range of indices.\n",
        "\n",
        " NumPy's array slicing is significantly faster than Pythons list slicing due to its efficient memory management, internal implementation, and optimized C-based operations. Unlike Python lists, which store references to individual objects, NumPy arrays store data in contiguous memory blocks, making slicing operations much faster and more efficient.\n",
        "\n",
        " Differences Between NumPy Array Slicing & Python List Slicing:-\n",
        "* NumPy arrays use a single contiguous memory block, while Python lists store references to scattered objects\n",
        "* NumPy slicing is optimized using C-based implementation which makes it faster, whereas Python lists require extra processing.  "
      ],
      "metadata": {
        "id": "epm5Vtvil92e"
      }
    },
    {
      "cell_type": "markdown",
      "source": [
        "22. What are some common use cases for Seaborn?\n",
        "\n",
        " *  Seaborn is a data visualisation library built on top of matplotlib which uses high level function to create aestheic, informative and statistical visualisation of  graphs. It provides built-in themes, color palettes, and functions to visualize complex datasets efficiently.\n",
        "\n",
        "\n",
        " Some common usecases of Seaborn are:-\n",
        "\n",
        " * Seaborn is used to quickly analyze and visualize patterns, distributions, and relationships in datasets.\n",
        " *  It provides statistical plots like box plots, violin plots, and histograms to summarize data distributions.\n",
        " * The heatmap() function helps visualize correlation matrices, making it easier to identify relationships.\n",
        " * The pairplot() function is useful for visualizing pairwise relationships in multi-dimensional data.\n",
        " * Seaborn provides themes and color palettes to enhance the aesthetics of Matplotlib plots."
      ],
      "metadata": {
        "id": "Fj0uBsC5noWi"
      }
    },
    {
      "cell_type": "markdown",
      "source": [
        "# Practical Questions"
      ],
      "metadata": {
        "id": "cJx0dcozpmQb"
      }
    },
    {
      "cell_type": "code",
      "source": [
        "\"\"\"1. How do you create a 2D NumPy array and calculate the sum of each row?\"\"\"\n",
        "import numpy as np\n",
        "\n",
        "# Creating a 2D NumPy array\n",
        "arr = np.array([[1000, 2000, 3000], [4000, 5000, 6000], [7000, 8000, 9000]])\n",
        "\n",
        "# Summing each row\n",
        "row_sums = np.sum(arr, axis=1)\n",
        "\n",
        "print(\"2D Array:\\n\", arr)\n",
        "print(\"Sum of each row:\", row_sums)\n"
      ],
      "metadata": {
        "colab": {
          "base_uri": "https://localhost:8080/"
        },
        "id": "Rtcxt_2Dps8K",
        "outputId": "28ced47e-9557-44fa-dbbe-d50d73026b53"
      },
      "execution_count": null,
      "outputs": [
        {
          "output_type": "stream",
          "name": "stdout",
          "text": [
            "2D Array:\n",
            " [[1000 2000 3000]\n",
            " [4000 5000 6000]\n",
            " [7000 8000 9000]]\n",
            "Sum of each row: [ 6000 15000 24000]\n"
          ]
        }
      ]
    },
    {
      "cell_type": "code",
      "source": [
        "\"\"\" 2. Write a Pandas script to find the mean of a specific column in a DataFrame.\"\"\"\n",
        "import pandas as pd\n",
        "data = {'A': [33, 47, 55], 'B': [15, 25, 35]}\n",
        "df = pd.DataFrame(data)\n",
        "\n",
        "# Finding the mean of column 'A'\n",
        "mean_A = df['A'].mean()\n",
        "\n",
        "print(\"Mean of column A:\", mean_A)\n"
      ],
      "metadata": {
        "colab": {
          "base_uri": "https://localhost:8080/"
        },
        "id": "IooVFEjKrCIT",
        "outputId": "1f0ae308-ea54-477e-f6b4-56bd0e204c59"
      },
      "execution_count": null,
      "outputs": [
        {
          "output_type": "stream",
          "name": "stdout",
          "text": [
            "Mean of column A: 45.0\n"
          ]
        }
      ]
    },
    {
      "cell_type": "code",
      "source": [
        "\"\"\" 3. Create a scatter plot using Matplotlib.\"\"\"\n",
        "import matplotlib.pyplot as plt\n",
        "\n",
        "x = [1, 2, 3, 4, 5]\n",
        "y = [10, 15, 7, 20, 25]\n",
        "\n",
        "plt.scatter(x, y) # creating scatter plot\n",
        "\n",
        "# Adding labels\n",
        "plt.xlabel(\"X-axis\")\n",
        "plt.ylabel(\"Y-axis\")\n",
        "plt.title(\"Scatter Plot\")\n",
        "\n",
        "plt.show()\n"
      ],
      "metadata": {
        "colab": {
          "base_uri": "https://localhost:8080/",
          "height": 472
        },
        "id": "9VXKUkQbrjIa",
        "outputId": "4b4612ab-0f51-4a1b-9bc0-ff9e74c93ea2"
      },
      "execution_count": null,
      "outputs": [
        {
          "output_type": "display_data",
          "data": {
            "text/plain": [
              "<Figure size 640x480 with 1 Axes>"
            ],
            "image/png": "[encoded data removed]"
          },
          "metadata": {}
        }
      ]
    },
    {
      "cell_type": "code",
      "source": [
        "\"\"\" 4. How do you calculate the correlation matrix using Seaborn and visualize it with a heatmap? \"\"\"\n",
        "import seaborn as sns  # Import Seaborn for visualization\n",
        "import pandas as pd  # Import Pandas to create a DataFrame\n",
        "import numpy as np  # Import NumPy for numerical operations\n",
        "import matplotlib.pyplot as plt  # Import Matplotlib for plotting\n",
        "\n",
        "data = {\n",
        "    'A': [10, 20, 30, 40, 50],\n",
        "    'B': [15, 25, 35, 45, 55],\n",
        "    'C': [5, 14, 23, 32, 41]\n",
        "}\n",
        "\n",
        "df = pd.DataFrame(data) # dataframe\n",
        "corr_matrix = df.corr()\n",
        "\n",
        "sns.heatmap(corr_matrix, annot=True, cmap=\"coolwarm\") # heatmap\n",
        "plt.title(\"Correlation Heatmap\")\n",
        "plt.show()\n"
      ],
      "metadata": {
        "colab": {
          "base_uri": "https://localhost:8080/",
          "height": 452
        },
        "id": "DoapP845s9SW",
        "outputId": "3c7e926a-0a3f-4d82-fedf-160b6a1d51f4"
      },
      "execution_count": null,
      "outputs": [
        {
          "output_type": "display_data",
          "data": {
            "text/plain": [
              "<Figure size 640x480 with 2 Axes>"
            ],
            "image/png": "[encoded data removed]"
          },
          "metadata": {}
        }
      ]
    },
    {
      "cell_type": "code",
      "source": [
        "\"\"\" 5. Generate a bar plot using Plotly.\"\"\"\n",
        "import plotly.express as px\n",
        "\n",
        "data = {'Category': ['A', 'B', 'C', 'D'],\n",
        "        'Values': [10, 20, 15, 25]}\n",
        "\n",
        "fig = px.bar(data, x='Category', y='Values', title=\"Bar Plot\") # create bar plot\n",
        "\n",
        "fig.show()\n"
      ],
      "metadata": {
        "colab": {
          "base_uri": "https://localhost:8080/",
          "height": 542
        },
        "id": "-yTFr-95uXOU",
        "outputId": "c21b97cc-9543-488e-f0cc-c8364a4b1834"
      },
      "execution_count": null,
      "outputs": [
        {
          "output_type": "display_data",
          "data": {
            "text/html": [
              "<html>\n",
              "<head><meta charset=\"utf-8\" /></head>\n",
              "<body>\n",
              "    <div>            <script src=\"https://cdnjs.cloudflare.com/ajax/libs/mathjax/2.7.5/MathJax.js?config=TeX-AMS-MML_SVG\"></script><script type=\"text/javascript\">if (window.MathJax && window.MathJax.Hub && window.MathJax.Hub.Config) {window.MathJax.Hub.Config({SVG: {font: \"STIX-Web\"}});}</script>                <script type=\"text/javascript\">window.PlotlyConfig = {MathJaxConfig: 'local'};</script>\n",
              "        <script charset=\"utf-8\" src=\"https://cdn.plot.ly/plotly-2.35.2.min.js\"></script>                <div id=\"1c0d610a-46f5-405b-92fa-b1b5c938e03e\" class=\"plotly-graph-div\" style=\"height:525px; width:100%;\"></div>            <script type=\"text/javascript\">                                    window.PLOTLYENV=window.PLOTLYENV || {};                                    if (document.getElementById(\"1c0d610a-46f5-405b-92fa-b1b5c938e03e\")) {                    Plotly.newPlot(                        \"1c0d610a-46f5-405b-92fa-b1b5c938e03e\",                        [{\"alignmentgroup\":\"True\",\"hovertemplate\":\"Category=%{x}\\u003cbr\\u003eValues=%{y}\\u003cextra\\u003e\\u003c\\u002fextra\\u003e\",\"legendgroup\":\"\",\"marker\":{\"color\":\"#636efa\",\"pattern\":{\"shape\":\"\"}},\"name\":\"\",\"offsetgroup\":\"\",\"orientation\":\"v\",\"showlegend\":false,\"textposition\":\"auto\",\"x\":[\"A\",\"B\",\"C\",\"D\"],\"xaxis\":\"x\",\"y\":[10,20,15,25],\"yaxis\":\"y\",\"type\":\"bar\"}],                        {\"template\":{\"data\":{\"histogram2dcontour\":[{\"type\":\"histogram2dcontour\",\"colorbar\":{\"outlinewidth\":0,\"ticks\":\"\"},\"colorscale\":[[0.0,\"#0d0887\"],[0.1111111111111111,\"#46039f\"],[0.2222222222222222,\"#7201a8\"],[0.3333333333333333,\"#9c179e\"],[0.4444444444444444,\"#bd3786\"],[0.5555555555555556,\"#d8576b\"],[0.6666666666666666,\"#ed7953\"],[0.7777777777777778,\"#fb9f3a\"],[0.8888888888888888,\"#fdca26\"],[1.0,\"#f0f921\"]]}],\"choropleth\":[{\"type\":\"choropleth\",\"colorbar\":{\"outlinewidth\":0,\"ticks\":\"\"}}],\"histogram2d\":[{\"type\":\"histogram2d\",\"colorbar\":{\"outlinewidth\":0,\"ticks\":\"\"},\"colorscale\":[[0.0,\"#0d0887\"],[0.1111111111111111,\"#46039f\"],[0.2222222222222222,\"#7201a8\"],[0.3333333333333333,\"#9c179e\"],[0.4444444444444444,\"#bd3786\"],[0.5555555555555556,\"#d8576b\"],[0.6666666666666666,\"#ed7953\"],[0.7777777777777778,\"#fb9f3a\"],[0.8888888888888888,\"#fdca26\"],[1.0,\"#f0f921\"]]}],\"heatmap\":[{\"type\":\"heatmap\",\"colorbar\":{\"outlinewidth\":0,\"ticks\":\"\"},\"colorscale\":[[0.0,\"#0d0887\"],[0.1111111111111111,\"#46039f\"],[0.2222222222222222,\"#7201a8\"],[0.3333333333333333,\"#9c179e\"],[0.4444444444444444,\"#bd3786\"],[0.5555555555555556,\"#d8576b\"],[0.6666666666666666,\"#ed7953\"],[0.7777777777777778,\"#fb9f3a\"],[0.8888888888888888,\"#fdca26\"],[1.0,\"#f0f921\"]]}],\"heatmapgl\":[{\"type\":\"heatmapgl\",\"colorbar\":{\"outlinewidth\":0,\"ticks\":\"\"},\"colorscale\":[[0.0,\"#0d0887\"],[0.1111111111111111,\"#46039f\"],[0.2222222222222222,\"#7201a8\"],[0.3333333333333333,\"#9c179e\"],[0.4444444444444444,\"#bd3786\"],[0.5555555555555556,\"#d8576b\"],[0.6666666666666666,\"#ed7953\"],[0.7777777777777778,\"#fb9f3a\"],[0.8888888888888888,\"#fdca26\"],[1.0,\"#f0f921\"]]}],\"contourcarpet\":[{\"type\":\"contourcarpet\",\"colorbar\":{\"outlinewidth\":0,\"ticks\":\"\"}}],\"contour\":[{\"type\":\"contour\",\"colorbar\":{\"outlinewidth\":0,\"ticks\":\"\"},\"colorscale\":[[0.0,\"#0d0887\"],[0.1111111111111111,\"#46039f\"],[0.2222222222222222,\"#7201a8\"],[0.3333333333333333,\"#9c179e\"],[0.4444444444444444,\"#bd3786\"],[0.5555555555555556,\"#d8576b\"],[0.6666666666666666,\"#ed7953\"],[0.7777777777777778,\"#fb9f3a\"],[0.8888888888888888,\"#fdca26\"],[1.0,\"#f0f921\"]]}],\"surface\":[{\"type\":\"surface\",\"colorbar\":{\"outlinewidth\":0,\"ticks\":\"\"},\"colorscale\":[[0.0,\"#0d0887\"],[0.1111111111111111,\"#46039f\"],[0.2222222222222222,\"#7201a8\"],[0.3333333333333333,\"#9c179e\"],[0.4444444444444444,\"#bd3786\"],[0.5555555555555556,\"#d8576b\"],[0.6666666666666666,\"#ed7953\"],[0.7777777777777778,\"#fb9f3a\"],[0.8888888888888888,\"#fdca26\"],[1.0,\"#f0f921\"]]}],\"mesh3d\":[{\"type\":\"mesh3d\",\"colorbar\":{\"outlinewidth\":0,\"ticks\":\"\"}}],\"scatter\":[{\"fillpattern\":{\"fillmode\":\"overlay\",\"size\":10,\"solidity\":0.2},\"type\":\"scatter\"}],\"parcoords\":[{\"type\":\"parcoords\",\"line\":{\"colorbar\":{\"outlinewidth\":0,\"ticks\":\"\"}}}],\"scatterpolargl\":[{\"type\":\"scatterpolargl\",\"marker\":{\"colorbar\":{\"outlinewidth\":0,\"ticks\":\"\"}}}],\"bar\":[{\"error_x\":{\"color\":\"#2a3f5f\"},\"error_y\":{\"color\":\"#2a3f5f\"},\"marker\":{\"line\":{\"color\":\"#E5ECF6\",\"width\":0.5},\"pattern\":{\"fillmode\":\"overlay\",\"size\":10,\"solidity\":0.2}},\"type\":\"bar\"}],\"scattergeo\":[{\"type\":\"scattergeo\",\"marker\":{\"colorbar\":{\"outlinewidth\":0,\"ticks\":\"\"}}}],\"scatterpolar\":[{\"type\":\"scatterpolar\",\"marker\":{\"colorbar\":{\"outlinewidth\":0,\"ticks\":\"\"}}}],\"histogram\":[{\"marker\":{\"pattern\":{\"fillmode\":\"overlay\",\"size\":10,\"solidity\":0.2}},\"type\":\"histogram\"}],\"scattergl\":[{\"type\":\"scattergl\",\"marker\":{\"colorbar\":{\"outlinewidth\":0,\"ticks\":\"\"}}}],\"scatter3d\":[{\"type\":\"scatter3d\",\"line\":{\"colorbar\":{\"outlinewidth\":0,\"ticks\":\"\"}},\"marker\":{\"colorbar\":{\"outlinewidth\":0,\"ticks\":\"\"}}}],\"scattermapbox\":[{\"type\":\"scattermapbox\",\"marker\":{\"colorbar\":{\"outlinewidth\":0,\"ticks\":\"\"}}}],\"scatterternary\":[{\"type\":\"scatterternary\",\"marker\":{\"colorbar\":{\"outlinewidth\":0,\"ticks\":\"\"}}}],\"scattercarpet\":[{\"type\":\"scattercarpet\",\"marker\":{\"colorbar\":{\"outlinewidth\":0,\"ticks\":\"\"}}}],\"carpet\":[{\"aaxis\":{\"endlinecolor\":\"#2a3f5f\",\"gridcolor\":\"white\",\"linecolor\":\"white\",\"minorgridcolor\":\"white\",\"startlinecolor\":\"#2a3f5f\"},\"baxis\":{\"endlinecolor\":\"#2a3f5f\",\"gridcolor\":\"white\",\"linecolor\":\"white\",\"minorgridcolor\":\"white\",\"startlinecolor\":\"#2a3f5f\"},\"type\":\"carpet\"}],\"table\":[{\"cells\":{\"fill\":{\"color\":\"#EBF0F8\"},\"line\":{\"color\":\"white\"}},\"header\":{\"fill\":{\"color\":\"#C8D4E3\"},\"line\":{\"color\":\"white\"}},\"type\":\"table\"}],\"barpolar\":[{\"marker\":{\"line\":{\"color\":\"#E5ECF6\",\"width\":0.5},\"pattern\":{\"fillmode\":\"overlay\",\"size\":10,\"solidity\":0.2}},\"type\":\"barpolar\"}],\"pie\":[{\"automargin\":true,\"type\":\"pie\"}]},\"layout\":{\"autotypenumbers\":\"strict\",\"colorway\":[\"#636efa\",\"#EF553B\",\"#00cc96\",\"#ab63fa\",\"#FFA15A\",\"#19d3f3\",\"#FF6692\",\"#B6E880\",\"#FF97FF\",\"#FECB52\"],\"font\":{\"color\":\"#2a3f5f\"},\"hovermode\":\"closest\",\"hoverlabel\":{\"align\":\"left\"},\"paper_bgcolor\":\"white\",\"plot_bgcolor\":\"#E5ECF6\",\"polar\":{\"bgcolor\":\"#E5ECF6\",\"angularaxis\":{\"gridcolor\":\"white\",\"linecolor\":\"white\",\"ticks\":\"\"},\"radialaxis\":{\"gridcolor\":\"white\",\"linecolor\":\"white\",\"ticks\":\"\"}},\"ternary\":{\"bgcolor\":\"#E5ECF6\",\"aaxis\":{\"gridcolor\":\"white\",\"linecolor\":\"white\",\"ticks\":\"\"},\"baxis\":{\"gridcolor\":\"white\",\"linecolor\":\"white\",\"ticks\":\"\"},\"caxis\":{\"gridcolor\":\"white\",\"linecolor\":\"white\",\"ticks\":\"\"}},\"coloraxis\":{\"colorbar\":{\"outlinewidth\":0,\"ticks\":\"\"}},\"colorscale\":{\"sequential\":[[0.0,\"#0d0887\"],[0.1111111111111111,\"#46039f\"],[0.2222222222222222,\"#7201a8\"],[0.3333333333333333,\"#9c179e\"],[0.4444444444444444,\"#bd3786\"],[0.5555555555555556,\"#d8576b\"],[0.6666666666666666,\"#ed7953\"],[0.7777777777777778,\"#fb9f3a\"],[0.8888888888888888,\"#fdca26\"],[1.0,\"#f0f921\"]],\"sequentialminus\":[[0.0,\"#0d0887\"],[0.1111111111111111,\"#46039f\"],[0.2222222222222222,\"#7201a8\"],[0.3333333333333333,\"#9c179e\"],[0.4444444444444444,\"#bd3786\"],[0.5555555555555556,\"#d8576b\"],[0.6666666666666666,\"#ed7953\"],[0.7777777777777778,\"#fb9f3a\"],[0.8888888888888888,\"#fdca26\"],[1.0,\"#f0f921\"]],\"diverging\":[[0,\"#8e0152\"],[0.1,\"#c51b7d\"],[0.2,\"#de77ae\"],[0.3,\"#f1b6da\"],[0.4,\"#fde0ef\"],[0.5,\"#f7f7f7\"],[0.6,\"#e6f5d0\"],[0.7,\"#b8e186\"],[0.8,\"#7fbc41\"],[0.9,\"#4d9221\"],[1,\"#276419\"]]},\"xaxis\":{\"gridcolor\":\"white\",\"linecolor\":\"white\",\"ticks\":\"\",\"title\":{\"standoff\":15},\"zerolinecolor\":\"white\",\"automargin\":true,\"zerolinewidth\":2},\"yaxis\":{\"gridcolor\":\"white\",\"linecolor\":\"white\",\"ticks\":\"\",\"title\":{\"standoff\":15},\"zerolinecolor\":\"white\",\"automargin\":true,\"zerolinewidth\":2},\"scene\":{\"xaxis\":{\"backgroundcolor\":\"#E5ECF6\",\"gridcolor\":\"white\",\"linecolor\":\"white\",\"showbackground\":true,\"ticks\":\"\",\"zerolinecolor\":\"white\",\"gridwidth\":2},\"yaxis\":{\"backgroundcolor\":\"#E5ECF6\",\"gridcolor\":\"white\",\"linecolor\":\"white\",\"showbackground\":true,\"ticks\":\"\",\"zerolinecolor\":\"white\",\"gridwidth\":2},\"zaxis\":{\"backgroundcolor\":\"#E5ECF6\",\"gridcolor\":\"white\",\"linecolor\":\"white\",\"showbackground\":true,\"ticks\":\"\",\"zerolinecolor\":\"white\",\"gridwidth\":2}},\"shapedefaults\":{\"line\":{\"color\":\"#2a3f5f\"}},\"annotationdefaults\":{\"arrowcolor\":\"#2a3f5f\",\"arrowhead\":0,\"arrowwidth\":1},\"geo\":{\"bgcolor\":\"white\",\"landcolor\":\"#E5ECF6\",\"subunitcolor\":\"white\",\"showland\":true,\"showlakes\":true,\"lakecolor\":\"white\"},\"title\":{\"x\":0.05},\"mapbox\":{\"style\":\"light\"}}},\"xaxis\":{\"anchor\":\"y\",\"domain\":[0.0,1.0],\"title\":{\"text\":\"Category\"}},\"yaxis\":{\"anchor\":\"x\",\"domain\":[0.0,1.0],\"title\":{\"text\":\"Values\"}},\"legend\":{\"tracegroupgap\":0},\"title\":{\"text\":\"Bar Plot\"},\"barmode\":\"relative\"},                        {\"responsive\": true}                    ).then(function(){\n",
              "                            \n",
              "var gd = document.getElementById('1c0d610a-46f5-405b-92fa-b1b5c938e03e');\n",
              "var x = new MutationObserver(function (mutations, observer) {{\n",
              "        var display = window.getComputedStyle(gd).display;\n",
              "        if (!display || display === 'none') {{\n",
              "            console.log([gd, 'removed!']);\n",
              "            Plotly.purge(gd);\n",
              "            observer.disconnect();\n",
              "        }}\n",
              "}});\n",
              "\n",
              "// Listen for the removal of the full notebook cells\n",
              "var notebookContainer = gd.closest('#notebook-container');\n",
              "if (notebookContainer) {{\n",
              "    x.observe(notebookContainer, {childList: true});\n",
              "}}\n",
              "\n",
              "// Listen for the clearing of the current output cell\n",
              "var outputEl = gd.closest('.output');\n",
              "if (outputEl) {{\n",
              "    x.observe(outputEl, {childList: true});\n",
              "}}\n",
              "\n",
              "                        })                };                            </script>        </div>\n",
              "</body>\n",
              "</html>"
            ]
          },
          "metadata": {}
        }
      ]
    },
    {
      "cell_type": "code",
      "source": [
        "\"\"\" 6. Create a DataFrame and add a new column based on an existing column.\"\"\"\n",
        "import pandas as pd\n",
        "\n",
        "data = {'Name': ['Dhruv', 'Manvi', 'Idhika'],\n",
        "        'Score': [85, 72, 90]}\n",
        "df = pd.DataFrame(data)\n",
        "\n",
        "df['Grade'] = ['A' if score >= 80 else 'B' for score in df['Score']]\n",
        "\n",
        "print(df)\n"
      ],
      "metadata": {
        "colab": {
          "base_uri": "https://localhost:8080/"
        },
        "id": "MyGd8dChuxLO",
        "outputId": "af26901b-9642-43eb-b66d-2d17f7c021ea"
      },
      "execution_count": null,
      "outputs": [
        {
          "output_type": "stream",
          "name": "stdout",
          "text": [
            "     Name  Score Grade\n",
            "0   Dhruv     85     A\n",
            "1   Manvi     72     B\n",
            "2  Idhika     90     A\n"
          ]
        }
      ]
    },
    {
      "cell_type": "code",
      "source": [
        "\"\"\"7.  Write a program to perform element-wise multiplication of two NumPy arrays.\"\"\"\n",
        "import numpy as np\n",
        "arr1 = np.array([1, 2, 3])\n",
        "arr2 = np.array([4, 5, 6])\n",
        "\n",
        "# Element-wise multiplication\n",
        "result = arr1 * arr2\n",
        "\n",
        "print(\"Result:\", result)\n"
      ],
      "metadata": {
        "colab": {
          "base_uri": "https://localhost:8080/"
        },
        "id": "cojLmyKPvrpP",
        "outputId": "e27c54e9-50c8-432b-ec4c-2f53f273f10a"
      },
      "execution_count": null,
      "outputs": [
        {
          "output_type": "stream",
          "name": "stdout",
          "text": [
            "Result: [ 4 10 18]\n"
          ]
        }
      ]
    },
    {
      "cell_type": "code",
      "source": [
        "\"\"\" 8. Create a line plot with multiple lines using Matplotlib.\"\"\"\n",
        "import matplotlib.pyplot as plt\n",
        "\n",
        "x = [1, 2, 3, 4, 5]\n",
        "y1 = [10, 20, 15, 25, 30]\n",
        "y2 = [5, 15, 10, 20, 25]\n",
        "\n",
        "# Plotting two lines\n",
        "plt.plot(x, y1, label=\"Line 1\", marker='o')\n",
        "plt.plot(x, y2, label=\"Line 2\", marker='s')\n",
        "\n",
        "# Adding labels and title\n",
        "plt.xlabel(\"X-axis\")\n",
        "plt.ylabel(\"Y-axis\")\n",
        "plt.title(\"Line Plot with Multiple Lines\")\n",
        "plt.legend()\n",
        "\n",
        "plt.show()\n"
      ],
      "metadata": {
        "colab": {
          "base_uri": "https://localhost:8080/",
          "height": 472
        },
        "id": "0V2d4_F9wCmI",
        "outputId": "95820b03-21f7-4f7d-f2c0-6b4112b236da"
      },
      "execution_count": null,
      "outputs": [
        {
          "output_type": "display_data",
          "data": {
            "text/plain": [
              "<Figure size 640x480 with 1 Axes>"
            ],
            "image/png": "[encoded data removed]"
          },
          "metadata": {}
        }
      ]
    },
    {
      "cell_type": "code",
      "source": [
        "\"\"\" 9. Generate a Pandas DataFrame and filter rows where a column value is greater than a threshold.\"\"\"\n",
        "import pandas as pd\n",
        "\n",
        "# Creating a DataFrame\n",
        "data = {'Name': ['Dhruv', 'Manvi', 'Idhika', 'Sumit'],\n",
        "        'Score': [85, 72, 90, 60]}\n",
        "df = pd.DataFrame(data)\n",
        "\n",
        "filtered_df = df[df['Score'] > 80] # Filtering rows where Score > 80\n",
        "\n",
        "print(filtered_df)\n"
      ],
      "metadata": {
        "colab": {
          "base_uri": "https://localhost:8080/"
        },
        "id": "aZW9QkG9wVeY",
        "outputId": "b7ad1847-1f84-4e39-91ea-2ecdcd7fdf30"
      },
      "execution_count": null,
      "outputs": [
        {
          "output_type": "stream",
          "name": "stdout",
          "text": [
            "     Name  Score\n",
            "0   Dhruv     85\n",
            "2  Idhika     90\n"
          ]
        }
      ]
    },
    {
      "cell_type": "code",
      "source": [
        "\"\"\" 10. Create a histogram using Seaborn to visualize a distribution.\"\"\"\n",
        "import seaborn as sns\n",
        "import matplotlib.pyplot as plt\n",
        "\n",
        "data = [10, 20, 20, 30, 30, 30, 40, 40, 50, 50, 50, 50]\n",
        "\n",
        "sns.histplot(data, bins=5, kde=True) # Creating histogram\n",
        "\n",
        "plt.title(\"Histogram of Data\")\n",
        "\n",
        "plt.show()\n"
      ],
      "metadata": {
        "colab": {
          "base_uri": "https://localhost:8080/",
          "height": 452
        },
        "id": "6OqRrxiDw6Qi",
        "outputId": "566de748-3f5c-46e1-b5ff-39f036d05f9e"
      },
      "execution_count": null,
      "outputs": [
        {
          "output_type": "display_data",
          "data": {
            "text/plain": [
              "<Figure size 640x480 with 1 Axes>"
            ],
            "image/png": "[encoded data removed]"
          },
          "metadata": {}
        }
      ]
    },
    {
      "cell_type": "code",
      "source": [
        "\"\"\" 11. Perform matrix multiplication using NumPy.\"\"\"\n",
        "import numpy as np\n",
        "\n",
        "A = np.array([[1, 2], [3, 4]])\n",
        "B = np.array([[5, 6], [7, 8]])\n",
        "\n",
        "# Matrix multiplication\n",
        "result = np.dot(A, B)\n",
        "print(\"Matrix Multiplication Result:\\n\", result)\n"
      ],
      "metadata": {
        "colab": {
          "base_uri": "https://localhost:8080/"
        },
        "id": "aMeT1CepxN5N",
        "outputId": "b4ba8dcf-d4f0-46ea-8bf9-4a44bfe7ad4b"
      },
      "execution_count": null,
      "outputs": [
        {
          "output_type": "stream",
          "name": "stdout",
          "text": [
            "Matrix Multiplication Result:\n",
            " [[19 22]\n",
            " [43 50]]\n"
          ]
        }
      ]
    },
    {
      "cell_type": "code",
      "source": [
        "\"\"\" 12. Use Pandas to load a CSV file and display its first 5 rows.\"\"\"\n",
        "import pandas as pd\n",
        "\n",
        "# Create a CSV file\n",
        "data = {\n",
        "    'ID': [1, 2, 3, 4, 5],\n",
        "    'Name': ['Krishna', 'Mayank', 'Idhika', 'Manvi', 'Ritik'],\n",
        "    'Age': [19, 17, 18, 19, 19],\n",
        "    'Score': [85, 78, 90, 88, 76]\n",
        "}\n",
        "\n",
        "df = pd.DataFrame(data)\n",
        "\n",
        "# Save DataFrame as CSV\n",
        "df.to_csv('sample_data.csv', index=False)\n",
        "\n",
        "print(\"CSV file 'sample_data.csv' created successfully!\")\n",
        "\n",
        "df_loaded = pd.read_csv('sample_data.csv') # Load the CSV file\n",
        "\n",
        "\n",
        "print(\"\\nFirst 5 rows of the loaded CSV file:\") # Display the first 5 rows\n",
        "\n",
        "print(df_loaded.head())\n",
        "\n"
      ],
      "metadata": {
        "colab": {
          "base_uri": "https://localhost:8080/"
        },
        "id": "nAzDdGLpyAAo",
        "outputId": "94076947-465e-4805-ea98-cf8abd6be079"
      },
      "execution_count": null,
      "outputs": [
        {
          "output_type": "stream",
          "name": "stdout",
          "text": [
            "CSV file 'sample_data.csv' created successfully!\n",
            "\n",
            "First 5 rows of the loaded CSV file:\n",
            "   ID     Name  Age  Score\n",
            "0   1  Krishna   19     85\n",
            "1   2   Mayank   17     78\n",
            "2   3   Idhika   18     90\n",
            "3   4    Manvi   19     88\n",
            "4   5    Ritik   19     76\n"
          ]
        }
      ]
    },
    {
      "cell_type": "code",
      "source": [
        "\"\"\" 13. Create a 3D scatter plot using Plotly.\"\"\"\n",
        "import plotly.express as px\n",
        "import pandas as pd\n",
        "\n",
        "data = {'X': [1, 2, 3, 4, 5],\n",
        "        'Y': [10, 15, 7, 20, 25],\n",
        "        'Z': [5, 8, 12, 6, 10]}\n",
        "df = pd.DataFrame(data)\n",
        "\n",
        "fig = px.scatter_3d(df, x='X', y='Y', z='Z', title=\"3D Scatter Plot\") # Creating a 3D scatter plot\n",
        "\n",
        "fig.show()\n"
      ],
      "metadata": {
        "colab": {
          "base_uri": "https://localhost:8080/",
          "height": 542
        },
        "id": "UOB2PS_W0c04",
        "outputId": "88b20e6f-e295-45d7-f715-a6971c8c5ff7"
      },
      "execution_count": 1,
      "outputs": [
        {
          "output_type": "display_data",
          "data": {
            "text/html": [
              "<html>\n",
              "<head><meta charset=\"utf-8\" /></head>\n",
              "<body>\n",
              "    <div>            <script src=\"https://cdnjs.cloudflare.com/ajax/libs/mathjax/2.7.5/MathJax.js?config=TeX-AMS-MML_SVG\"></script><script type=\"text/javascript\">if (window.MathJax && window.MathJax.Hub && window.MathJax.Hub.Config) {window.MathJax.Hub.Config({SVG: {font: \"STIX-Web\"}});}</script>                <script type=\"text/javascript\">window.PlotlyConfig = {MathJaxConfig: 'local'};</script>\n",
              "        <script charset=\"utf-8\" src=\"https://cdn.plot.ly/plotly-2.35.2.min.js\"></script>                <div id=\"85c1eb71-64fb-4ff1-be9a-a851dfbbb9f0\" class=\"plotly-graph-div\" style=\"height:525px; width:100%;\"></div>            <script type=\"text/javascript\">                                    window.PLOTLYENV=window.PLOTLYENV || {};                                    if (document.getElementById(\"85c1eb71-64fb-4ff1-be9a-a851dfbbb9f0\")) {                    Plotly.newPlot(                        \"85c1eb71-64fb-4ff1-be9a-a851dfbbb9f0\",                        [{\"hovertemplate\":\"X=%{x}\\u003cbr\\u003eY=%{y}\\u003cbr\\u003eZ=%{z}\\u003cextra\\u003e\\u003c\\u002fextra\\u003e\",\"legendgroup\":\"\",\"marker\":{\"color\":\"#636efa\",\"symbol\":\"circle\"},\"mode\":\"markers\",\"name\":\"\",\"scene\":\"scene\",\"showlegend\":false,\"x\":[1,2,3,4,5],\"y\":[10,15,7,20,25],\"z\":[5,8,12,6,10],\"type\":\"scatter3d\"}],                        {\"template\":{\"data\":{\"histogram2dcontour\":[{\"type\":\"histogram2dcontour\",\"colorbar\":{\"outlinewidth\":0,\"ticks\":\"\"},\"colorscale\":[[0.0,\"#0d0887\"],[0.1111111111111111,\"#46039f\"],[0.2222222222222222,\"#7201a8\"],[0.3333333333333333,\"#9c179e\"],[0.4444444444444444,\"#bd3786\"],[0.5555555555555556,\"#d8576b\"],[0.6666666666666666,\"#ed7953\"],[0.7777777777777778,\"#fb9f3a\"],[0.8888888888888888,\"#fdca26\"],[1.0,\"#f0f921\"]]}],\"choropleth\":[{\"type\":\"choropleth\",\"colorbar\":{\"outlinewidth\":0,\"ticks\":\"\"}}],\"histogram2d\":[{\"type\":\"histogram2d\",\"colorbar\":{\"outlinewidth\":0,\"ticks\":\"\"},\"colorscale\":[[0.0,\"#0d0887\"],[0.1111111111111111,\"#46039f\"],[0.2222222222222222,\"#7201a8\"],[0.3333333333333333,\"#9c179e\"],[0.4444444444444444,\"#bd3786\"],[0.5555555555555556,\"#d8576b\"],[0.6666666666666666,\"#ed7953\"],[0.7777777777777778,\"#fb9f3a\"],[0.8888888888888888,\"#fdca26\"],[1.0,\"#f0f921\"]]}],\"heatmap\":[{\"type\":\"heatmap\",\"colorbar\":{\"outlinewidth\":0,\"ticks\":\"\"},\"colorscale\":[[0.0,\"#0d0887\"],[0.1111111111111111,\"#46039f\"],[0.2222222222222222,\"#7201a8\"],[0.3333333333333333,\"#9c179e\"],[0.4444444444444444,\"#bd3786\"],[0.5555555555555556,\"#d8576b\"],[0.6666666666666666,\"#ed7953\"],[0.7777777777777778,\"#fb9f3a\"],[0.8888888888888888,\"#fdca26\"],[1.0,\"#f0f921\"]]}],\"heatmapgl\":[{\"type\":\"heatmapgl\",\"colorbar\":{\"outlinewidth\":0,\"ticks\":\"\"},\"colorscale\":[[0.0,\"#0d0887\"],[0.1111111111111111,\"#46039f\"],[0.2222222222222222,\"#7201a8\"],[0.3333333333333333,\"#9c179e\"],[0.4444444444444444,\"#bd3786\"],[0.5555555555555556,\"#d8576b\"],[0.6666666666666666,\"#ed7953\"],[0.7777777777777778,\"#fb9f3a\"],[0.8888888888888888,\"#fdca26\"],[1.0,\"#f0f921\"]]}],\"contourcarpet\":[{\"type\":\"contourcarpet\",\"colorbar\":{\"outlinewidth\":0,\"ticks\":\"\"}}],\"contour\":[{\"type\":\"contour\",\"colorbar\":{\"outlinewidth\":0,\"ticks\":\"\"},\"colorscale\":[[0.0,\"#0d0887\"],[0.1111111111111111,\"#46039f\"],[0.2222222222222222,\"#7201a8\"],[0.3333333333333333,\"#9c179e\"],[0.4444444444444444,\"#bd3786\"],[0.5555555555555556,\"#d8576b\"],[0.6666666666666666,\"#ed7953\"],[0.7777777777777778,\"#fb9f3a\"],[0.8888888888888888,\"#fdca26\"],[1.0,\"#f0f921\"]]}],\"surface\":[{\"type\":\"surface\",\"colorbar\":{\"outlinewidth\":0,\"ticks\":\"\"},\"colorscale\":[[0.0,\"#0d0887\"],[0.1111111111111111,\"#46039f\"],[0.2222222222222222,\"#7201a8\"],[0.3333333333333333,\"#9c179e\"],[0.4444444444444444,\"#bd3786\"],[0.5555555555555556,\"#d8576b\"],[0.6666666666666666,\"#ed7953\"],[0.7777777777777778,\"#fb9f3a\"],[0.8888888888888888,\"#fdca26\"],[1.0,\"#f0f921\"]]}],\"mesh3d\":[{\"type\":\"mesh3d\",\"colorbar\":{\"outlinewidth\":0,\"ticks\":\"\"}}],\"scatter\":[{\"fillpattern\":{\"fillmode\":\"overlay\",\"size\":10,\"solidity\":0.2},\"type\":\"scatter\"}],\"parcoords\":[{\"type\":\"parcoords\",\"line\":{\"colorbar\":{\"outlinewidth\":0,\"ticks\":\"\"}}}],\"scatterpolargl\":[{\"type\":\"scatterpolargl\",\"marker\":{\"colorbar\":{\"outlinewidth\":0,\"ticks\":\"\"}}}],\"bar\":[{\"error_x\":{\"color\":\"#2a3f5f\"},\"error_y\":{\"color\":\"#2a3f5f\"},\"marker\":{\"line\":{\"color\":\"#E5ECF6\",\"width\":0.5},\"pattern\":{\"fillmode\":\"overlay\",\"size\":10,\"solidity\":0.2}},\"type\":\"bar\"}],\"scattergeo\":[{\"type\":\"scattergeo\",\"marker\":{\"colorbar\":{\"outlinewidth\":0,\"ticks\":\"\"}}}],\"scatterpolar\":[{\"type\":\"scatterpolar\",\"marker\":{\"colorbar\":{\"outlinewidth\":0,\"ticks\":\"\"}}}],\"histogram\":[{\"marker\":{\"pattern\":{\"fillmode\":\"overlay\",\"size\":10,\"solidity\":0.2}},\"type\":\"histogram\"}],\"scattergl\":[{\"type\":\"scattergl\",\"marker\":{\"colorbar\":{\"outlinewidth\":0,\"ticks\":\"\"}}}],\"scatter3d\":[{\"type\":\"scatter3d\",\"line\":{\"colorbar\":{\"outlinewidth\":0,\"ticks\":\"\"}},\"marker\":{\"colorbar\":{\"outlinewidth\":0,\"ticks\":\"\"}}}],\"scattermapbox\":[{\"type\":\"scattermapbox\",\"marker\":{\"colorbar\":{\"outlinewidth\":0,\"ticks\":\"\"}}}],\"scatterternary\":[{\"type\":\"scatterternary\",\"marker\":{\"colorbar\":{\"outlinewidth\":0,\"ticks\":\"\"}}}],\"scattercarpet\":[{\"type\":\"scattercarpet\",\"marker\":{\"colorbar\":{\"outlinewidth\":0,\"ticks\":\"\"}}}],\"carpet\":[{\"aaxis\":{\"endlinecolor\":\"#2a3f5f\",\"gridcolor\":\"white\",\"linecolor\":\"white\",\"minorgridcolor\":\"white\",\"startlinecolor\":\"#2a3f5f\"},\"baxis\":{\"endlinecolor\":\"#2a3f5f\",\"gridcolor\":\"white\",\"linecolor\":\"white\",\"minorgridcolor\":\"white\",\"startlinecolor\":\"#2a3f5f\"},\"type\":\"carpet\"}],\"table\":[{\"cells\":{\"fill\":{\"color\":\"#EBF0F8\"},\"line\":{\"color\":\"white\"}},\"header\":{\"fill\":{\"color\":\"#C8D4E3\"},\"line\":{\"color\":\"white\"}},\"type\":\"table\"}],\"barpolar\":[{\"marker\":{\"line\":{\"color\":\"#E5ECF6\",\"width\":0.5},\"pattern\":{\"fillmode\":\"overlay\",\"size\":10,\"solidity\":0.2}},\"type\":\"barpolar\"}],\"pie\":[{\"automargin\":true,\"type\":\"pie\"}]},\"layout\":{\"autotypenumbers\":\"strict\",\"colorway\":[\"#636efa\",\"#EF553B\",\"#00cc96\",\"#ab63fa\",\"#FFA15A\",\"#19d3f3\",\"#FF6692\",\"#B6E880\",\"#FF97FF\",\"#FECB52\"],\"font\":{\"color\":\"#2a3f5f\"},\"hovermode\":\"closest\",\"hoverlabel\":{\"align\":\"left\"},\"paper_bgcolor\":\"white\",\"plot_bgcolor\":\"#E5ECF6\",\"polar\":{\"bgcolor\":\"#E5ECF6\",\"angularaxis\":{\"gridcolor\":\"white\",\"linecolor\":\"white\",\"ticks\":\"\"},\"radialaxis\":{\"gridcolor\":\"white\",\"linecolor\":\"white\",\"ticks\":\"\"}},\"ternary\":{\"bgcolor\":\"#E5ECF6\",\"aaxis\":{\"gridcolor\":\"white\",\"linecolor\":\"white\",\"ticks\":\"\"},\"baxis\":{\"gridcolor\":\"white\",\"linecolor\":\"white\",\"ticks\":\"\"},\"caxis\":{\"gridcolor\":\"white\",\"linecolor\":\"white\",\"ticks\":\"\"}},\"coloraxis\":{\"colorbar\":{\"outlinewidth\":0,\"ticks\":\"\"}},\"colorscale\":{\"sequential\":[[0.0,\"#0d0887\"],[0.1111111111111111,\"#46039f\"],[0.2222222222222222,\"#7201a8\"],[0.3333333333333333,\"#9c179e\"],[0.4444444444444444,\"#bd3786\"],[0.5555555555555556,\"#d8576b\"],[0.6666666666666666,\"#ed7953\"],[0.7777777777777778,\"#fb9f3a\"],[0.8888888888888888,\"#fdca26\"],[1.0,\"#f0f921\"]],\"sequentialminus\":[[0.0,\"#0d0887\"],[0.1111111111111111,\"#46039f\"],[0.2222222222222222,\"#7201a8\"],[0.3333333333333333,\"#9c179e\"],[0.4444444444444444,\"#bd3786\"],[0.5555555555555556,\"#d8576b\"],[0.6666666666666666,\"#ed7953\"],[0.7777777777777778,\"#fb9f3a\"],[0.8888888888888888,\"#fdca26\"],[1.0,\"#f0f921\"]],\"diverging\":[[0,\"#8e0152\"],[0.1,\"#c51b7d\"],[0.2,\"#de77ae\"],[0.3,\"#f1b6da\"],[0.4,\"#fde0ef\"],[0.5,\"#f7f7f7\"],[0.6,\"#e6f5d0\"],[0.7,\"#b8e186\"],[0.8,\"#7fbc41\"],[0.9,\"#4d9221\"],[1,\"#276419\"]]},\"xaxis\":{\"gridcolor\":\"white\",\"linecolor\":\"white\",\"ticks\":\"\",\"title\":{\"standoff\":15},\"zerolinecolor\":\"white\",\"automargin\":true,\"zerolinewidth\":2},\"yaxis\":{\"gridcolor\":\"white\",\"linecolor\":\"white\",\"ticks\":\"\",\"title\":{\"standoff\":15},\"zerolinecolor\":\"white\",\"automargin\":true,\"zerolinewidth\":2},\"scene\":{\"xaxis\":{\"backgroundcolor\":\"#E5ECF6\",\"gridcolor\":\"white\",\"linecolor\":\"white\",\"showbackground\":true,\"ticks\":\"\",\"zerolinecolor\":\"white\",\"gridwidth\":2},\"yaxis\":{\"backgroundcolor\":\"#E5ECF6\",\"gridcolor\":\"white\",\"linecolor\":\"white\",\"showbackground\":true,\"ticks\":\"\",\"zerolinecolor\":\"white\",\"gridwidth\":2},\"zaxis\":{\"backgroundcolor\":\"#E5ECF6\",\"gridcolor\":\"white\",\"linecolor\":\"white\",\"showbackground\":true,\"ticks\":\"\",\"zerolinecolor\":\"white\",\"gridwidth\":2}},\"shapedefaults\":{\"line\":{\"color\":\"#2a3f5f\"}},\"annotationdefaults\":{\"arrowcolor\":\"#2a3f5f\",\"arrowhead\":0,\"arrowwidth\":1},\"geo\":{\"bgcolor\":\"white\",\"landcolor\":\"#E5ECF6\",\"subunitcolor\":\"white\",\"showland\":true,\"showlakes\":true,\"lakecolor\":\"white\"},\"title\":{\"x\":0.05},\"mapbox\":{\"style\":\"light\"}}},\"scene\":{\"domain\":{\"x\":[0.0,1.0],\"y\":[0.0,1.0]},\"xaxis\":{\"title\":{\"text\":\"X\"}},\"yaxis\":{\"title\":{\"text\":\"Y\"}},\"zaxis\":{\"title\":{\"text\":\"Z\"}}},\"legend\":{\"tracegroupgap\":0},\"title\":{\"text\":\"3D Scatter Plot\"}},                        {\"responsive\": true}                    ).then(function(){\n",
              "                            \n",
              "var gd = document.getElementById('85c1eb71-64fb-4ff1-be9a-a851dfbbb9f0');\n",
              "var x = new MutationObserver(function (mutations, observer) {{\n",
              "        var display = window.getComputedStyle(gd).display;\n",
              "        if (!display || display === 'none') {{\n",
              "            console.log([gd, 'removed!']);\n",
              "            Plotly.purge(gd);\n",
              "            observer.disconnect();\n",
              "        }}\n",
              "}});\n",
              "\n",
              "// Listen for the removal of the full notebook cells\n",
              "var notebookContainer = gd.closest('#notebook-container');\n",
              "if (notebookContainer) {{\n",
              "    x.observe(notebookContainer, {childList: true});\n",
              "}}\n",
              "\n",
              "// Listen for the clearing of the current output cell\n",
              "var outputEl = gd.closest('.output');\n",
              "if (outputEl) {{\n",
              "    x.observe(outputEl, {childList: true});\n",
              "}}\n",
              "\n",
              "                        })                };                            </script>        </div>\n",
              "</body>\n",
              "</html>"
            ]
          },
          "metadata": {}
        }
      ]
    }
  ]
}